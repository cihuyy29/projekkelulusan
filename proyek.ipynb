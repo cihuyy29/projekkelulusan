{
 "cells": [
  {
   "cell_type": "code",
   "execution_count": 1,
   "metadata": {},
   "outputs": [],
   "source": [
    "#import library yang dibutuhkan\n",
    "import numpy as np\n",
    "import pandas as pd\n",
    "import matplotlib.pyplot as plt\n",
    "import seaborn as sns\n",
    "from sklearn.preprocessing import StandardScaler\n",
    "from sklearn.model_selection import GridSearchCV, train_test_split\n",
    "from sklearn.neighbors import KNeighborsClassifier\n",
    "from sklearn.metrics import confusion_matrix, classification_report"
   ]
  },
  {
   "cell_type": "code",
   "execution_count": 2,
   "metadata": {},
   "outputs": [
    {
     "data": {
      "text/html": [
       "<div>\n",
       "<style scoped>\n",
       "    .dataframe tbody tr th:only-of-type {\n",
       "        vertical-align: middle;\n",
       "    }\n",
       "\n",
       "    .dataframe tbody tr th {\n",
       "        vertical-align: top;\n",
       "    }\n",
       "\n",
       "    .dataframe thead th {\n",
       "        text-align: right;\n",
       "    }\n",
       "</style>\n",
       "<table border=\"1\" class=\"dataframe\">\n",
       "  <thead>\n",
       "    <tr style=\"text-align: right;\">\n",
       "      <th></th>\n",
       "      <th>id</th>\n",
       "      <th>sex</th>\n",
       "      <th>bdate</th>\n",
       "      <th>has_photo</th>\n",
       "      <th>has_mobile</th>\n",
       "      <th>followers_count</th>\n",
       "      <th>graduation</th>\n",
       "      <th>education_form</th>\n",
       "      <th>relation</th>\n",
       "      <th>education_status</th>\n",
       "      <th>langs</th>\n",
       "      <th>life_main</th>\n",
       "      <th>people_main</th>\n",
       "      <th>city</th>\n",
       "      <th>last_seen</th>\n",
       "      <th>occupation_type</th>\n",
       "      <th>occupation_name</th>\n",
       "      <th>career_start</th>\n",
       "      <th>career_end</th>\n",
       "      <th>result</th>\n",
       "    </tr>\n",
       "  </thead>\n",
       "  <tbody>\n",
       "    <tr>\n",
       "      <th>0</th>\n",
       "      <td>64100</td>\n",
       "      <td>2</td>\n",
       "      <td>23.4.1990</td>\n",
       "      <td>1</td>\n",
       "      <td>1.0</td>\n",
       "      <td>150.0</td>\n",
       "      <td>2012.0</td>\n",
       "      <td>Full-time</td>\n",
       "      <td>2.0</td>\n",
       "      <td>Student (Specialist)</td>\n",
       "      <td>Русский;English</td>\n",
       "      <td>0</td>\n",
       "      <td>0</td>\n",
       "      <td>Kaliningrad</td>\n",
       "      <td>2020-08-19 20:47:43</td>\n",
       "      <td>university</td>\n",
       "      <td>БФУ им. Канта (бывш. РГУ им. Канта, КГУ)</td>\n",
       "      <td>False</td>\n",
       "      <td>False</td>\n",
       "      <td>0</td>\n",
       "    </tr>\n",
       "    <tr>\n",
       "      <th>1</th>\n",
       "      <td>46851</td>\n",
       "      <td>2</td>\n",
       "      <td>11.4</td>\n",
       "      <td>0</td>\n",
       "      <td>1.0</td>\n",
       "      <td>92.0</td>\n",
       "      <td>2011.0</td>\n",
       "      <td>Distance Learning</td>\n",
       "      <td>4.0</td>\n",
       "      <td>Alumnus (Specialist)</td>\n",
       "      <td>Русский</td>\n",
       "      <td>0</td>\n",
       "      <td>0</td>\n",
       "      <td>NaN</td>\n",
       "      <td>2020-12-25 10:31:53</td>\n",
       "      <td>university</td>\n",
       "      <td>ЛНУ (бывш. ЛНПУ) им. Тараса Шевченко</td>\n",
       "      <td>False</td>\n",
       "      <td>False</td>\n",
       "      <td>0</td>\n",
       "    </tr>\n",
       "    <tr>\n",
       "      <th>2</th>\n",
       "      <td>13159</td>\n",
       "      <td>2</td>\n",
       "      <td>5.10</td>\n",
       "      <td>0</td>\n",
       "      <td>1.0</td>\n",
       "      <td>62.0</td>\n",
       "      <td>2012.0</td>\n",
       "      <td>Full-time</td>\n",
       "      <td>0.0</td>\n",
       "      <td>Alumnus (Specialist)</td>\n",
       "      <td>Русский</td>\n",
       "      <td>0</td>\n",
       "      <td>6</td>\n",
       "      <td>Mogilev</td>\n",
       "      <td>2020-03-06 03:37:47</td>\n",
       "      <td>university</td>\n",
       "      <td>БРУ (бывш. МГТУ, ММИ)</td>\n",
       "      <td>False</td>\n",
       "      <td>False</td>\n",
       "      <td>0</td>\n",
       "    </tr>\n",
       "    <tr>\n",
       "      <th>3</th>\n",
       "      <td>59148</td>\n",
       "      <td>1</td>\n",
       "      <td>1.3.1967</td>\n",
       "      <td>0</td>\n",
       "      <td>1.0</td>\n",
       "      <td>179.0</td>\n",
       "      <td>1989.0</td>\n",
       "      <td>Full-time</td>\n",
       "      <td>4.0</td>\n",
       "      <td>PhD</td>\n",
       "      <td>Русский</td>\n",
       "      <td>False</td>\n",
       "      <td>False</td>\n",
       "      <td>Moscow</td>\n",
       "      <td>2020-10-10 18:06:27</td>\n",
       "      <td>university</td>\n",
       "      <td>Bodø Graduate School of Business</td>\n",
       "      <td>False</td>\n",
       "      <td>False</td>\n",
       "      <td>0</td>\n",
       "    </tr>\n",
       "    <tr>\n",
       "      <th>4</th>\n",
       "      <td>46429</td>\n",
       "      <td>2</td>\n",
       "      <td>NaN</td>\n",
       "      <td>0</td>\n",
       "      <td>1.0</td>\n",
       "      <td>74.0</td>\n",
       "      <td>2008.0</td>\n",
       "      <td>Full-time</td>\n",
       "      <td>7.0</td>\n",
       "      <td>Alumnus (Specialist)</td>\n",
       "      <td>Русский</td>\n",
       "      <td>3</td>\n",
       "      <td>2</td>\n",
       "      <td>Ryazan</td>\n",
       "      <td>2020-01-03 03:34:09</td>\n",
       "      <td>university</td>\n",
       "      <td>РГРТУ (бывш. РГРТА, РРТИ)</td>\n",
       "      <td>False</td>\n",
       "      <td>False</td>\n",
       "      <td>0</td>\n",
       "    </tr>\n",
       "  </tbody>\n",
       "</table>\n",
       "</div>"
      ],
      "text/plain": [
       "      id  sex      bdate  has_photo  has_mobile  followers_count  graduation  \\\n",
       "0  64100    2  23.4.1990          1         1.0            150.0      2012.0   \n",
       "1  46851    2       11.4          0         1.0             92.0      2011.0   \n",
       "2  13159    2       5.10          0         1.0             62.0      2012.0   \n",
       "3  59148    1   1.3.1967          0         1.0            179.0      1989.0   \n",
       "4  46429    2        NaN          0         1.0             74.0      2008.0   \n",
       "\n",
       "      education_form  relation      education_status            langs  \\\n",
       "0          Full-time       2.0  Student (Specialist)  Русский;English   \n",
       "1  Distance Learning       4.0  Alumnus (Specialist)          Русский   \n",
       "2          Full-time       0.0  Alumnus (Specialist)          Русский   \n",
       "3          Full-time       4.0                   PhD          Русский   \n",
       "4          Full-time       7.0  Alumnus (Specialist)          Русский   \n",
       "\n",
       "  life_main people_main         city            last_seen occupation_type  \\\n",
       "0         0           0  Kaliningrad  2020-08-19 20:47:43      university   \n",
       "1         0           0          NaN  2020-12-25 10:31:53      university   \n",
       "2         0           6      Mogilev  2020-03-06 03:37:47      university   \n",
       "3     False       False       Moscow  2020-10-10 18:06:27      university   \n",
       "4         3           2       Ryazan  2020-01-03 03:34:09      university   \n",
       "\n",
       "                            occupation_name career_start career_end  result  \n",
       "0  БФУ им. Канта (бывш. РГУ им. Канта, КГУ)        False      False       0  \n",
       "1      ЛНУ (бывш. ЛНПУ) им. Тараса Шевченко        False      False       0  \n",
       "2                     БРУ (бывш. МГТУ, ММИ)        False      False       0  \n",
       "3          Bodø Graduate School of Business        False      False       0  \n",
       "4                 РГРТУ (бывш. РГРТА, РРТИ)        False      False       0  "
      ]
     },
     "execution_count": 2,
     "metadata": {},
     "output_type": "execute_result"
    }
   ],
   "source": [
    "df = pd.read_csv('student_train.csv')\n",
    "df.head()"
   ]
  },
  {
   "cell_type": "code",
   "execution_count": 3,
   "metadata": {},
   "outputs": [
    {
     "data": {
      "text/plain": [
       "id                     0\n",
       "sex                    0\n",
       "bdate               1168\n",
       "has_photo              0\n",
       "has_mobile             0\n",
       "followers_count        0\n",
       "graduation             0\n",
       "education_form       608\n",
       "relation               0\n",
       "education_status       0\n",
       "langs                  0\n",
       "life_main              0\n",
       "people_main            0\n",
       "city                 582\n",
       "last_seen              0\n",
       "occupation_type      193\n",
       "occupation_name      193\n",
       "career_start           0\n",
       "career_end             0\n",
       "result                 0\n",
       "dtype: int64"
      ]
     },
     "execution_count": 3,
     "metadata": {},
     "output_type": "execute_result"
    }
   ],
   "source": [
    "#checking the missing value\n",
    "df.isna().sum()"
   ]
  },
  {
   "cell_type": "code",
   "execution_count": 4,
   "metadata": {},
   "outputs": [
    {
     "data": {
      "text/html": [
       "<div>\n",
       "<style scoped>\n",
       "    .dataframe tbody tr th:only-of-type {\n",
       "        vertical-align: middle;\n",
       "    }\n",
       "\n",
       "    .dataframe tbody tr th {\n",
       "        vertical-align: top;\n",
       "    }\n",
       "\n",
       "    .dataframe thead th {\n",
       "        text-align: right;\n",
       "    }\n",
       "</style>\n",
       "<table border=\"1\" class=\"dataframe\">\n",
       "  <thead>\n",
       "    <tr style=\"text-align: right;\">\n",
       "      <th></th>\n",
       "      <th>id</th>\n",
       "      <th>sex</th>\n",
       "      <th>bdate</th>\n",
       "      <th>has_photo</th>\n",
       "      <th>has_mobile</th>\n",
       "      <th>followers_count</th>\n",
       "      <th>graduation</th>\n",
       "      <th>education_form</th>\n",
       "      <th>relation</th>\n",
       "      <th>education_status</th>\n",
       "      <th>langs</th>\n",
       "      <th>life_main</th>\n",
       "      <th>people_main</th>\n",
       "      <th>city</th>\n",
       "      <th>last_seen</th>\n",
       "      <th>occupation_type</th>\n",
       "      <th>occupation_name</th>\n",
       "      <th>career_start</th>\n",
       "      <th>career_end</th>\n",
       "      <th>result</th>\n",
       "    </tr>\n",
       "  </thead>\n",
       "  <tbody>\n",
       "    <tr>\n",
       "      <th>0</th>\n",
       "      <td>64100</td>\n",
       "      <td>2</td>\n",
       "      <td>1852</td>\n",
       "      <td>1</td>\n",
       "      <td>1.0</td>\n",
       "      <td>150.0</td>\n",
       "      <td>2012.0</td>\n",
       "      <td>1</td>\n",
       "      <td>2.0</td>\n",
       "      <td>7</td>\n",
       "      <td>86</td>\n",
       "      <td>0</td>\n",
       "      <td>0</td>\n",
       "      <td>246</td>\n",
       "      <td>5118</td>\n",
       "      <td>0</td>\n",
       "      <td>915</td>\n",
       "      <td>49</td>\n",
       "      <td>34</td>\n",
       "      <td>0</td>\n",
       "    </tr>\n",
       "    <tr>\n",
       "      <th>1</th>\n",
       "      <td>46851</td>\n",
       "      <td>2</td>\n",
       "      <td>326</td>\n",
       "      <td>0</td>\n",
       "      <td>1.0</td>\n",
       "      <td>92.0</td>\n",
       "      <td>2011.0</td>\n",
       "      <td>0</td>\n",
       "      <td>4.0</td>\n",
       "      <td>2</td>\n",
       "      <td>61</td>\n",
       "      <td>0</td>\n",
       "      <td>0</td>\n",
       "      <td>860</td>\n",
       "      <td>8041</td>\n",
       "      <td>0</td>\n",
       "      <td>1796</td>\n",
       "      <td>49</td>\n",
       "      <td>34</td>\n",
       "      <td>0</td>\n",
       "    </tr>\n",
       "    <tr>\n",
       "      <th>2</th>\n",
       "      <td>13159</td>\n",
       "      <td>2</td>\n",
       "      <td>2990</td>\n",
       "      <td>0</td>\n",
       "      <td>1.0</td>\n",
       "      <td>62.0</td>\n",
       "      <td>2012.0</td>\n",
       "      <td>1</td>\n",
       "      <td>0.0</td>\n",
       "      <td>2</td>\n",
       "      <td>61</td>\n",
       "      <td>0</td>\n",
       "      <td>6</td>\n",
       "      <td>417</td>\n",
       "      <td>1451</td>\n",
       "      <td>0</td>\n",
       "      <td>895</td>\n",
       "      <td>49</td>\n",
       "      <td>34</td>\n",
       "      <td>0</td>\n",
       "    </tr>\n",
       "    <tr>\n",
       "      <th>3</th>\n",
       "      <td>59148</td>\n",
       "      <td>1</td>\n",
       "      <td>55</td>\n",
       "      <td>0</td>\n",
       "      <td>1.0</td>\n",
       "      <td>179.0</td>\n",
       "      <td>1989.0</td>\n",
       "      <td>1</td>\n",
       "      <td>4.0</td>\n",
       "      <td>4</td>\n",
       "      <td>61</td>\n",
       "      <td>9</td>\n",
       "      <td>7</td>\n",
       "      <td>421</td>\n",
       "      <td>6313</td>\n",
       "      <td>0</td>\n",
       "      <td>125</td>\n",
       "      <td>49</td>\n",
       "      <td>34</td>\n",
       "      <td>0</td>\n",
       "    </tr>\n",
       "    <tr>\n",
       "      <th>4</th>\n",
       "      <td>46429</td>\n",
       "      <td>2</td>\n",
       "      <td>3562</td>\n",
       "      <td>0</td>\n",
       "      <td>1.0</td>\n",
       "      <td>74.0</td>\n",
       "      <td>2008.0</td>\n",
       "      <td>1</td>\n",
       "      <td>7.0</td>\n",
       "      <td>2</td>\n",
       "      <td>61</td>\n",
       "      <td>3</td>\n",
       "      <td>2</td>\n",
       "      <td>592</td>\n",
       "      <td>31</td>\n",
       "      <td>0</td>\n",
       "      <td>2764</td>\n",
       "      <td>49</td>\n",
       "      <td>34</td>\n",
       "      <td>0</td>\n",
       "    </tr>\n",
       "  </tbody>\n",
       "</table>\n",
       "</div>"
      ],
      "text/plain": [
       "      id  sex  bdate  has_photo  has_mobile  followers_count  graduation  \\\n",
       "0  64100    2   1852          1         1.0            150.0      2012.0   \n",
       "1  46851    2    326          0         1.0             92.0      2011.0   \n",
       "2  13159    2   2990          0         1.0             62.0      2012.0   \n",
       "3  59148    1     55          0         1.0            179.0      1989.0   \n",
       "4  46429    2   3562          0         1.0             74.0      2008.0   \n",
       "\n",
       "   education_form  relation  education_status  langs  life_main  people_main  \\\n",
       "0               1       2.0                 7     86          0            0   \n",
       "1               0       4.0                 2     61          0            0   \n",
       "2               1       0.0                 2     61          0            6   \n",
       "3               1       4.0                 4     61          9            7   \n",
       "4               1       7.0                 2     61          3            2   \n",
       "\n",
       "   city  last_seen  occupation_type  occupation_name  career_start  \\\n",
       "0   246       5118                0              915            49   \n",
       "1   860       8041                0             1796            49   \n",
       "2   417       1451                0              895            49   \n",
       "3   421       6313                0              125            49   \n",
       "4   592         31                0             2764            49   \n",
       "\n",
       "   career_end  result  \n",
       "0          34       0  \n",
       "1          34       0  \n",
       "2          34       0  \n",
       "3          34       0  \n",
       "4          34       0  "
      ]
     },
     "execution_count": 4,
     "metadata": {},
     "output_type": "execute_result"
    }
   ],
   "source": [
    "#convert semua data non-numerik jdi numerik\n",
    "#ubah semua kolom pakai label encoder (itu ap yh?)\n",
    "from sklearn.preprocessing import LabelEncoder\n",
    "# Mendeteksi kolom kategori\n",
    "categorical_cols = df.select_dtypes(include=['object']).columns\n",
    "\n",
    "# Membuat objek LabelEncoder\n",
    "label_encoders = {}\n",
    "\n",
    "# Mengubah kolom kategori menjadi numerik\n",
    "for col in categorical_cols:\n",
    "    label_encoders[col] = LabelEncoder()\n",
    "    df[col] = label_encoders[col].fit_transform(df[col])\n",
    "#penegecekan kembali data setelah diconvert menjadi angka\n",
    "df.head()\n"
   ]
  },
  {
   "cell_type": "code",
   "execution_count": 5,
   "metadata": {},
   "outputs": [
    {
     "data": {
      "text/plain": [
       "id                  0\n",
       "sex                 0\n",
       "bdate               0\n",
       "has_photo           0\n",
       "has_mobile          0\n",
       "followers_count     0\n",
       "graduation          0\n",
       "education_form      0\n",
       "relation            0\n",
       "education_status    0\n",
       "langs               0\n",
       "life_main           0\n",
       "people_main         0\n",
       "city                0\n",
       "last_seen           0\n",
       "occupation_type     0\n",
       "occupation_name     0\n",
       "career_start        0\n",
       "career_end          0\n",
       "result              0\n",
       "dtype: int64"
      ]
     },
     "execution_count": 5,
     "metadata": {},
     "output_type": "execute_result"
    }
   ],
   "source": [
    "df.isna().sum()"
   ]
  },
  {
   "cell_type": "code",
   "execution_count": 7,
   "metadata": {},
   "outputs": [
    {
     "data": {
      "text/html": [
       "<div>\n",
       "<style scoped>\n",
       "    .dataframe tbody tr th:only-of-type {\n",
       "        vertical-align: middle;\n",
       "    }\n",
       "\n",
       "    .dataframe tbody tr th {\n",
       "        vertical-align: top;\n",
       "    }\n",
       "\n",
       "    .dataframe thead th {\n",
       "        text-align: right;\n",
       "    }\n",
       "</style>\n",
       "<table border=\"1\" class=\"dataframe\">\n",
       "  <thead>\n",
       "    <tr style=\"text-align: right;\">\n",
       "      <th></th>\n",
       "      <th>id</th>\n",
       "      <th>sex</th>\n",
       "      <th>bdate</th>\n",
       "      <th>has_photo</th>\n",
       "      <th>has_mobile</th>\n",
       "      <th>followers_count</th>\n",
       "      <th>graduation</th>\n",
       "      <th>education_form</th>\n",
       "      <th>relation</th>\n",
       "      <th>education_status</th>\n",
       "      <th>langs</th>\n",
       "      <th>life_main</th>\n",
       "      <th>people_main</th>\n",
       "      <th>city</th>\n",
       "      <th>last_seen</th>\n",
       "      <th>occupation_type</th>\n",
       "      <th>occupation_name</th>\n",
       "      <th>career_start</th>\n",
       "      <th>career_end</th>\n",
       "      <th>result</th>\n",
       "    </tr>\n",
       "  </thead>\n",
       "  <tbody>\n",
       "    <tr>\n",
       "      <th>0</th>\n",
       "      <td>64100</td>\n",
       "      <td>2</td>\n",
       "      <td>1852</td>\n",
       "      <td>1</td>\n",
       "      <td>1.0</td>\n",
       "      <td>150.0</td>\n",
       "      <td>2012.0</td>\n",
       "      <td>1</td>\n",
       "      <td>2.0</td>\n",
       "      <td>7</td>\n",
       "      <td>86</td>\n",
       "      <td>0</td>\n",
       "      <td>0</td>\n",
       "      <td>246</td>\n",
       "      <td>5118</td>\n",
       "      <td>0</td>\n",
       "      <td>915</td>\n",
       "      <td>49</td>\n",
       "      <td>34</td>\n",
       "      <td>0</td>\n",
       "    </tr>\n",
       "    <tr>\n",
       "      <th>1</th>\n",
       "      <td>46851</td>\n",
       "      <td>2</td>\n",
       "      <td>326</td>\n",
       "      <td>0</td>\n",
       "      <td>1.0</td>\n",
       "      <td>92.0</td>\n",
       "      <td>2011.0</td>\n",
       "      <td>0</td>\n",
       "      <td>4.0</td>\n",
       "      <td>2</td>\n",
       "      <td>61</td>\n",
       "      <td>0</td>\n",
       "      <td>0</td>\n",
       "      <td>860</td>\n",
       "      <td>8041</td>\n",
       "      <td>0</td>\n",
       "      <td>1796</td>\n",
       "      <td>49</td>\n",
       "      <td>34</td>\n",
       "      <td>0</td>\n",
       "    </tr>\n",
       "    <tr>\n",
       "      <th>2</th>\n",
       "      <td>13159</td>\n",
       "      <td>2</td>\n",
       "      <td>2990</td>\n",
       "      <td>0</td>\n",
       "      <td>1.0</td>\n",
       "      <td>62.0</td>\n",
       "      <td>2012.0</td>\n",
       "      <td>1</td>\n",
       "      <td>0.0</td>\n",
       "      <td>2</td>\n",
       "      <td>61</td>\n",
       "      <td>0</td>\n",
       "      <td>6</td>\n",
       "      <td>417</td>\n",
       "      <td>1451</td>\n",
       "      <td>0</td>\n",
       "      <td>895</td>\n",
       "      <td>49</td>\n",
       "      <td>34</td>\n",
       "      <td>0</td>\n",
       "    </tr>\n",
       "    <tr>\n",
       "      <th>3</th>\n",
       "      <td>59148</td>\n",
       "      <td>1</td>\n",
       "      <td>55</td>\n",
       "      <td>0</td>\n",
       "      <td>1.0</td>\n",
       "      <td>179.0</td>\n",
       "      <td>1989.0</td>\n",
       "      <td>1</td>\n",
       "      <td>4.0</td>\n",
       "      <td>4</td>\n",
       "      <td>61</td>\n",
       "      <td>9</td>\n",
       "      <td>7</td>\n",
       "      <td>421</td>\n",
       "      <td>6313</td>\n",
       "      <td>0</td>\n",
       "      <td>125</td>\n",
       "      <td>49</td>\n",
       "      <td>34</td>\n",
       "      <td>0</td>\n",
       "    </tr>\n",
       "    <tr>\n",
       "      <th>4</th>\n",
       "      <td>46429</td>\n",
       "      <td>2</td>\n",
       "      <td>3562</td>\n",
       "      <td>0</td>\n",
       "      <td>1.0</td>\n",
       "      <td>74.0</td>\n",
       "      <td>2008.0</td>\n",
       "      <td>1</td>\n",
       "      <td>7.0</td>\n",
       "      <td>2</td>\n",
       "      <td>61</td>\n",
       "      <td>3</td>\n",
       "      <td>2</td>\n",
       "      <td>592</td>\n",
       "      <td>31</td>\n",
       "      <td>0</td>\n",
       "      <td>2764</td>\n",
       "      <td>49</td>\n",
       "      <td>34</td>\n",
       "      <td>0</td>\n",
       "    </tr>\n",
       "  </tbody>\n",
       "</table>\n",
       "</div>"
      ],
      "text/plain": [
       "      id  sex  bdate  has_photo  has_mobile  followers_count  graduation  \\\n",
       "0  64100    2   1852          1         1.0            150.0      2012.0   \n",
       "1  46851    2    326          0         1.0             92.0      2011.0   \n",
       "2  13159    2   2990          0         1.0             62.0      2012.0   \n",
       "3  59148    1     55          0         1.0            179.0      1989.0   \n",
       "4  46429    2   3562          0         1.0             74.0      2008.0   \n",
       "\n",
       "   education_form  relation  education_status  langs  life_main  people_main  \\\n",
       "0               1       2.0                 7     86          0            0   \n",
       "1               0       4.0                 2     61          0            0   \n",
       "2               1       0.0                 2     61          0            6   \n",
       "3               1       4.0                 4     61          9            7   \n",
       "4               1       7.0                 2     61          3            2   \n",
       "\n",
       "   city  last_seen  occupation_type  occupation_name  career_start  \\\n",
       "0   246       5118                0              915            49   \n",
       "1   860       8041                0             1796            49   \n",
       "2   417       1451                0              895            49   \n",
       "3   421       6313                0              125            49   \n",
       "4   592         31                0             2764            49   \n",
       "\n",
       "   career_end  result  \n",
       "0          34       0  \n",
       "1          34       0  \n",
       "2          34       0  \n",
       "3          34       0  \n",
       "4          34       0  "
      ]
     },
     "execution_count": 7,
     "metadata": {},
     "output_type": "execute_result"
    }
   ],
   "source": [
    "#isi nilai NaN dengan mode fillna method\n",
    "df['bdate'].fillna(df['bdate'].mode(), inplace=True)\n",
    "df['education_form'].fillna(df['education_form'].mode(), inplace=True)\n",
    "df['city'].fillna(df['city'].mode(), inplace=True)\n",
    "df.head()"
   ]
  },
  {
   "cell_type": "code",
   "execution_count": 10,
   "metadata": {},
   "outputs": [
    {
     "data": {
      "text/plain": [
       "array([246, 860, 417, 421, 592, 238, 823, 844, 231, 126, 279, 598, 473,\n",
       "       619, 358, 340, 475, 530, 817, 698, 355, 833, 747, 191, 262, 414,\n",
       "       499, 834, 482, 156, 492, 434, 616, 235, 609, 601,  35, 386, 507,\n",
       "       564, 652, 282, 681, 816, 569, 125, 461, 124, 323, 788, 370, 145,\n",
       "       588, 555, 728, 333, 272, 755,  29, 344, 374, 843, 108, 459, 187,\n",
       "       384, 393, 628, 193, 699, 785, 239, 250, 495, 772, 821, 197, 527,\n",
       "       539, 724, 206, 427, 218, 661, 110, 541,  18, 347, 537, 664, 729,\n",
       "       367, 324, 199,  70, 744, 439, 818, 167, 147, 784, 508, 470, 799,\n",
       "       151,  68,  60, 624, 848, 620, 682, 512,   7, 293, 383, 811, 268,\n",
       "       297, 529, 416, 659, 751, 281,  27, 350,  51, 803, 795, 520,  98,\n",
       "       300, 400, 847, 758, 684, 593, 766, 155, 705, 455, 320, 465, 391,\n",
       "       696,  49, 742, 701, 739,  48, 505, 850, 247, 154, 163, 275, 789,\n",
       "       326, 321, 797, 362, 612, 727, 768, 756, 227, 142, 783, 342, 189,\n",
       "       730, 835,  84,  30, 303, 798, 579, 594,  11, 586, 770, 551, 796,\n",
       "       440, 446, 149, 345, 137, 454, 793, 385, 536, 448, 523,  14, 535,\n",
       "       208, 697, 214, 690, 170, 780, 750, 176, 288, 104, 726,  47, 299,\n",
       "       223, 148, 641, 748, 692,  56, 607, 839, 646, 575,  77, 670,  92,\n",
       "       276, 767, 203, 554, 636, 703, 826, 354, 164, 621, 763, 260, 668,\n",
       "       637, 312, 255, 812, 831, 719, 658,  32, 225,  85, 782, 556, 489,\n",
       "       304, 632, 580,  53, 842, 452, 381, 807, 655, 388, 120, 382, 813,\n",
       "       409, 243, 548, 471, 836, 249, 280, 449, 327, 502, 506, 128, 532,\n",
       "       634, 213, 305, 117, 787, 366, 462, 841, 859, 635, 738, 618, 178,\n",
       "       496, 683, 626, 800, 295,  61, 720, 809,  95, 514, 396, 676, 230,\n",
       "       708,  86, 478, 315, 760, 840, 722, 761, 515, 353,  20,  71, 700,\n",
       "       851, 100, 713,  16, 854, 375, 602, 442, 132, 183, 431, 118, 544,\n",
       "       578, 790,  45, 672, 331,  23, 491, 625,  67,  94, 631, 122,  89,\n",
       "       777,  13, 130, 522, 733, 474,  74, 480, 476,  82, 158,  26, 135,\n",
       "        96, 258, 549, 413, 725, 456, 721, 460, 707, 533, 568, 179, 477,\n",
       "        69, 510, 407,  58, 259, 546, 639, 398, 778, 418, 177, 360, 786,\n",
       "        87,  22, 311, 261, 762, 274, 395, 317, 597, 138, 686, 174, 599,\n",
       "       402, 202, 824, 168, 584, 754, 563,  21, 463, 165, 287, 464, 318,\n",
       "       543,  76, 119, 241, 802, 221, 373, 557, 236,  10, 308, 438, 573,\n",
       "       224, 828,   0, 737, 450,  52, 445, 140, 479, 408, 390, 540, 680,\n",
       "       334, 348, 420, 648, 338, 269, 503, 336, 339, 244, 335, 226, 412,\n",
       "       781, 741, 346, 430, 501, 190, 433, 576, 411, 596, 485, 516, 830,\n",
       "       494, 301, 392, 716, 846, 582, 271, 706, 815, 585,  43, 643, 159,\n",
       "       298, 114,  90, 695, 712, 378, 232, 129,  41, 182, 316, 426, 173,\n",
       "       723, 791, 665, 204, 577,   3,  59, 428,  50, 794, 611, 234, 200,\n",
       "       349, 757, 669, 801, 111,  64, 139, 453, 498, 526, 808, 500,  65,\n",
       "       486, 493, 286, 553, 566, 595, 702,  62, 617, 253, 172, 608, 270,\n",
       "       497, 545, 653, 792, 217, 424, 251, 357,  46, 837, 457, 380, 583,\n",
       "       216, 735, 233,  83, 252, 171, 169, 752, 819, 838, 113, 166, 141,\n",
       "       198, 212,  97, 571, 267, 192, 310, 517, 638, 291, 195, 322, 387,\n",
       "       451, 127,  81, 415, 136, 432, 209,   4, 759, 709, 605, 600, 229,\n",
       "       629, 853, 273, 443, 666, 810, 105,   9, 116, 559, 678, 558, 131,\n",
       "       289, 351, 379, 524, 376, 589, 732, 734, 649, 531, 857, 205, 651,\n",
       "       550,  99,  91, 377, 774, 222, 677, 220,  44, 827,  31, 403,  25,\n",
       "        66, 693, 613, 257, 389,  15, 513, 656, 547, 663, 504, 574, 481,\n",
       "       112,   1,  17, 731, 856, 615, 103, 519, 691, 565, 248, 153, 263,\n",
       "       328, 487,  57, 325, 749, 710, 604, 538, 715, 107, 644, 219, 285,\n",
       "       688, 102, 245, 307,  80, 484, 606, 804,  38, 806, 587, 256, 736,\n",
       "       825,  33, 101, 294,  36, 399,  34, 278, 356, 623, 769, 368, 771,\n",
       "       441, 694,  75, 319, 371, 740, 444, 123, 175, 422, 717, 337, 657,\n",
       "       645, 364, 143, 277, 753, 194,  37, 160, 852, 591, 397,  54, 425,\n",
       "       704, 361,  63, 394, 614, 372, 560, 228, 309, 561, 775, 660, 572,\n",
       "       435, 488,  55, 180,  42, 458, 849, 161, 714, 185, 157, 466, 654,\n",
       "       352, 622, 215,  88, 240, 242, 662, 679, 296, 764, 266, 210, 511,\n",
       "       332, 406, 341, 401, 528, 152, 314, 284, 211, 562, 567, 292, 711,\n",
       "        19, 133, 109, 467, 188,   5, 181, 590, 264,  39, 675, 855, 822,\n",
       "        28, 627, 472, 365, 359, 429, 687, 858, 405, 196, 630, 283, 437,\n",
       "       363, 534, 265, 603, 115, 570, 650, 667, 313, 306, 718, 237, 483,\n",
       "        24, 521, 254, 779, 410, 329,   2, 134, 845, 674, 685, 490,  72,\n",
       "         8, 820, 106, 746,  12, 121, 423, 743, 330,   6, 509, 542, 146,\n",
       "       673, 369, 773,  40, 343, 829, 745, 144, 436, 201, 640, 525, 447,\n",
       "       805, 150, 302, 552, 642, 207, 162, 404, 186, 633,  78, 468, 814,\n",
       "       610,  93, 581, 671, 419, 469, 184, 776,  73, 689, 290,  79, 765,\n",
       "       832, 647, 518])"
      ]
     },
     "execution_count": 10,
     "metadata": {},
     "output_type": "execute_result"
    }
   ],
   "source": [
    "df['city'].unique()\n"
   ]
  },
  {
   "cell_type": "code",
   "execution_count": 11,
   "metadata": {},
   "outputs": [
    {
     "data": {
      "text/plain": [
       "0    421\n",
       "Name: city, dtype: int32"
      ]
     },
     "execution_count": 11,
     "metadata": {},
     "output_type": "execute_result"
    }
   ],
   "source": [
    "df['city'].mode()"
   ]
  },
  {
   "cell_type": "code",
   "execution_count": 15,
   "metadata": {},
   "outputs": [],
   "source": [
    "x= df.iloc[:, [1,2,3,4,5,6,7,8,9,10,11,12,13,14,15,16,17,18]].values #data/ informasi untuk memprediksi apakah sesorang terindikasi diabetes atau tidak\n",
    "y= df.iloc[:, [19]].values  #yang ingin kita prediksi"
   ]
  },
  {
   "cell_type": "code",
   "execution_count": 16,
   "metadata": {},
   "outputs": [],
   "source": [
    "from sklearn.model_selection import train_test_split\n",
    "x_train, x_test, y_train, y_test = train_test_split(x, y, test_size = 0.25, random_state = 0) "
   ]
  },
  {
   "cell_type": "code",
   "execution_count": 17,
   "metadata": {},
   "outputs": [],
   "source": [
    "from sklearn.preprocessing import StandardScaler\n",
    "sc = StandardScaler()\n",
    "x_train = sc.fit_transform(x_train)\n",
    "x_test = sc.transform(x_test)  "
   ]
  },
  {
   "cell_type": "code",
   "execution_count": 20,
   "metadata": {},
   "outputs": [
    {
     "name": "stderr",
     "output_type": "stream",
     "text": [
      "c:\\ProgramData\\anaconda3\\Lib\\site-packages\\sklearn\\utils\\validation.py:1184: DataConversionWarning: A column-vector y was passed when a 1d array was expected. Please change the shape of y to (n_samples, ), for example using ravel().\n",
      "  y = column_or_1d(y, warn=True)\n"
     ]
    },
    {
     "data": {
      "text/html": [
       "<style>#sk-container-id-1 {color: black;}#sk-container-id-1 pre{padding: 0;}#sk-container-id-1 div.sk-toggleable {background-color: white;}#sk-container-id-1 label.sk-toggleable__label {cursor: pointer;display: block;width: 100%;margin-bottom: 0;padding: 0.3em;box-sizing: border-box;text-align: center;}#sk-container-id-1 label.sk-toggleable__label-arrow:before {content: \"▸\";float: left;margin-right: 0.25em;color: #696969;}#sk-container-id-1 label.sk-toggleable__label-arrow:hover:before {color: black;}#sk-container-id-1 div.sk-estimator:hover label.sk-toggleable__label-arrow:before {color: black;}#sk-container-id-1 div.sk-toggleable__content {max-height: 0;max-width: 0;overflow: hidden;text-align: left;background-color: #f0f8ff;}#sk-container-id-1 div.sk-toggleable__content pre {margin: 0.2em;color: black;border-radius: 0.25em;background-color: #f0f8ff;}#sk-container-id-1 input.sk-toggleable__control:checked~div.sk-toggleable__content {max-height: 200px;max-width: 100%;overflow: auto;}#sk-container-id-1 input.sk-toggleable__control:checked~label.sk-toggleable__label-arrow:before {content: \"▾\";}#sk-container-id-1 div.sk-estimator input.sk-toggleable__control:checked~label.sk-toggleable__label {background-color: #d4ebff;}#sk-container-id-1 div.sk-label input.sk-toggleable__control:checked~label.sk-toggleable__label {background-color: #d4ebff;}#sk-container-id-1 input.sk-hidden--visually {border: 0;clip: rect(1px 1px 1px 1px);clip: rect(1px, 1px, 1px, 1px);height: 1px;margin: -1px;overflow: hidden;padding: 0;position: absolute;width: 1px;}#sk-container-id-1 div.sk-estimator {font-family: monospace;background-color: #f0f8ff;border: 1px dotted black;border-radius: 0.25em;box-sizing: border-box;margin-bottom: 0.5em;}#sk-container-id-1 div.sk-estimator:hover {background-color: #d4ebff;}#sk-container-id-1 div.sk-parallel-item::after {content: \"\";width: 100%;border-bottom: 1px solid gray;flex-grow: 1;}#sk-container-id-1 div.sk-label:hover label.sk-toggleable__label {background-color: #d4ebff;}#sk-container-id-1 div.sk-serial::before {content: \"\";position: absolute;border-left: 1px solid gray;box-sizing: border-box;top: 0;bottom: 0;left: 50%;z-index: 0;}#sk-container-id-1 div.sk-serial {display: flex;flex-direction: column;align-items: center;background-color: white;padding-right: 0.2em;padding-left: 0.2em;position: relative;}#sk-container-id-1 div.sk-item {position: relative;z-index: 1;}#sk-container-id-1 div.sk-parallel {display: flex;align-items: stretch;justify-content: center;background-color: white;position: relative;}#sk-container-id-1 div.sk-item::before, #sk-container-id-1 div.sk-parallel-item::before {content: \"\";position: absolute;border-left: 1px solid gray;box-sizing: border-box;top: 0;bottom: 0;left: 50%;z-index: -1;}#sk-container-id-1 div.sk-parallel-item {display: flex;flex-direction: column;z-index: 1;position: relative;background-color: white;}#sk-container-id-1 div.sk-parallel-item:first-child::after {align-self: flex-end;width: 50%;}#sk-container-id-1 div.sk-parallel-item:last-child::after {align-self: flex-start;width: 50%;}#sk-container-id-1 div.sk-parallel-item:only-child::after {width: 0;}#sk-container-id-1 div.sk-dashed-wrapped {border: 1px dashed gray;margin: 0 0.4em 0.5em 0.4em;box-sizing: border-box;padding-bottom: 0.4em;background-color: white;}#sk-container-id-1 div.sk-label label {font-family: monospace;font-weight: bold;display: inline-block;line-height: 1.2em;}#sk-container-id-1 div.sk-label-container {text-align: center;}#sk-container-id-1 div.sk-container {/* jupyter's `normalize.less` sets `[hidden] { display: none; }` but bootstrap.min.css set `[hidden] { display: none !important; }` so we also need the `!important` here to be able to override the default hidden behavior on the sphinx rendered scikit-learn.org. See: https://github.com/scikit-learn/scikit-learn/issues/21755 */display: inline-block !important;position: relative;}#sk-container-id-1 div.sk-text-repr-fallback {display: none;}</style><div id=\"sk-container-id-1\" class=\"sk-top-container\"><div class=\"sk-text-repr-fallback\"><pre>LogisticRegression(random_state=0)</pre><b>In a Jupyter environment, please rerun this cell to show the HTML representation or trust the notebook. <br />On GitHub, the HTML representation is unable to render, please try loading this page with nbviewer.org.</b></div><div class=\"sk-container\" hidden><div class=\"sk-item\"><div class=\"sk-estimator sk-toggleable\"><input class=\"sk-toggleable__control sk-hidden--visually\" id=\"sk-estimator-id-1\" type=\"checkbox\" checked><label for=\"sk-estimator-id-1\" class=\"sk-toggleable__label sk-toggleable__label-arrow\">LogisticRegression</label><div class=\"sk-toggleable__content\"><pre>LogisticRegression(random_state=0)</pre></div></div></div></div></div>"
      ],
      "text/plain": [
       "LogisticRegression(random_state=0)"
      ]
     },
     "execution_count": 20,
     "metadata": {},
     "output_type": "execute_result"
    }
   ],
   "source": [
    "from sklearn.linear_model import LogisticRegression #nama modelnya\n",
    "classifier = LogisticRegression(random_state = 0)  #panggil modelnya\n",
    "classifier.fit(x_train, y_train) #fitting model ML nya"
   ]
  },
  {
   "cell_type": "code",
   "execution_count": 21,
   "metadata": {},
   "outputs": [],
   "source": [
    "y_pred = classifier.predict(x_test)"
   ]
  },
  {
   "cell_type": "code",
   "execution_count": 25,
   "metadata": {},
   "outputs": [
    {
     "data": {
      "text/plain": [
       "0.8311371400683261"
      ]
     },
     "execution_count": 25,
     "metadata": {},
     "output_type": "execute_result"
    }
   ],
   "source": [
    "from sklearn.metrics import confusion_matrix, accuracy_score\n",
    "accuracy_score(y_test, y_pred) "
   ]
  },
  {
   "cell_type": "code",
   "execution_count": 26,
   "metadata": {},
   "outputs": [
    {
     "name": "stdout",
     "output_type": "stream",
     "text": [
      "Metric Performa Machine Learning\n",
      "              precision    recall  f1-score   support\n",
      "\n",
      "           0       0.74      0.95      0.83       904\n",
      "           1       0.95      0.74      0.83      1145\n",
      "\n",
      "    accuracy                           0.83      2049\n",
      "   macro avg       0.84      0.84      0.83      2049\n",
      "weighted avg       0.86      0.83      0.83      2049\n",
      "\n"
     ]
    }
   ],
   "source": [
    "print(\"Metric Performa Machine Learning\")\n",
    "print(classification_report(y_test, y_pred))"
   ]
  },
  {
   "cell_type": "code",
   "execution_count": 27,
   "metadata": {},
   "outputs": [
    {
     "name": "stderr",
     "output_type": "stream",
     "text": [
      "c:\\ProgramData\\anaconda3\\Lib\\site-packages\\sklearn\\neighbors\\_classification.py:228: DataConversionWarning: A column-vector y was passed when a 1d array was expected. Please change the shape of y to (n_samples,), for example using ravel().\n",
      "  return self._fit(X, y)\n"
     ]
    },
    {
     "data": {
      "text/html": [
       "<style>#sk-container-id-2 {color: black;}#sk-container-id-2 pre{padding: 0;}#sk-container-id-2 div.sk-toggleable {background-color: white;}#sk-container-id-2 label.sk-toggleable__label {cursor: pointer;display: block;width: 100%;margin-bottom: 0;padding: 0.3em;box-sizing: border-box;text-align: center;}#sk-container-id-2 label.sk-toggleable__label-arrow:before {content: \"▸\";float: left;margin-right: 0.25em;color: #696969;}#sk-container-id-2 label.sk-toggleable__label-arrow:hover:before {color: black;}#sk-container-id-2 div.sk-estimator:hover label.sk-toggleable__label-arrow:before {color: black;}#sk-container-id-2 div.sk-toggleable__content {max-height: 0;max-width: 0;overflow: hidden;text-align: left;background-color: #f0f8ff;}#sk-container-id-2 div.sk-toggleable__content pre {margin: 0.2em;color: black;border-radius: 0.25em;background-color: #f0f8ff;}#sk-container-id-2 input.sk-toggleable__control:checked~div.sk-toggleable__content {max-height: 200px;max-width: 100%;overflow: auto;}#sk-container-id-2 input.sk-toggleable__control:checked~label.sk-toggleable__label-arrow:before {content: \"▾\";}#sk-container-id-2 div.sk-estimator input.sk-toggleable__control:checked~label.sk-toggleable__label {background-color: #d4ebff;}#sk-container-id-2 div.sk-label input.sk-toggleable__control:checked~label.sk-toggleable__label {background-color: #d4ebff;}#sk-container-id-2 input.sk-hidden--visually {border: 0;clip: rect(1px 1px 1px 1px);clip: rect(1px, 1px, 1px, 1px);height: 1px;margin: -1px;overflow: hidden;padding: 0;position: absolute;width: 1px;}#sk-container-id-2 div.sk-estimator {font-family: monospace;background-color: #f0f8ff;border: 1px dotted black;border-radius: 0.25em;box-sizing: border-box;margin-bottom: 0.5em;}#sk-container-id-2 div.sk-estimator:hover {background-color: #d4ebff;}#sk-container-id-2 div.sk-parallel-item::after {content: \"\";width: 100%;border-bottom: 1px solid gray;flex-grow: 1;}#sk-container-id-2 div.sk-label:hover label.sk-toggleable__label {background-color: #d4ebff;}#sk-container-id-2 div.sk-serial::before {content: \"\";position: absolute;border-left: 1px solid gray;box-sizing: border-box;top: 0;bottom: 0;left: 50%;z-index: 0;}#sk-container-id-2 div.sk-serial {display: flex;flex-direction: column;align-items: center;background-color: white;padding-right: 0.2em;padding-left: 0.2em;position: relative;}#sk-container-id-2 div.sk-item {position: relative;z-index: 1;}#sk-container-id-2 div.sk-parallel {display: flex;align-items: stretch;justify-content: center;background-color: white;position: relative;}#sk-container-id-2 div.sk-item::before, #sk-container-id-2 div.sk-parallel-item::before {content: \"\";position: absolute;border-left: 1px solid gray;box-sizing: border-box;top: 0;bottom: 0;left: 50%;z-index: -1;}#sk-container-id-2 div.sk-parallel-item {display: flex;flex-direction: column;z-index: 1;position: relative;background-color: white;}#sk-container-id-2 div.sk-parallel-item:first-child::after {align-self: flex-end;width: 50%;}#sk-container-id-2 div.sk-parallel-item:last-child::after {align-self: flex-start;width: 50%;}#sk-container-id-2 div.sk-parallel-item:only-child::after {width: 0;}#sk-container-id-2 div.sk-dashed-wrapped {border: 1px dashed gray;margin: 0 0.4em 0.5em 0.4em;box-sizing: border-box;padding-bottom: 0.4em;background-color: white;}#sk-container-id-2 div.sk-label label {font-family: monospace;font-weight: bold;display: inline-block;line-height: 1.2em;}#sk-container-id-2 div.sk-label-container {text-align: center;}#sk-container-id-2 div.sk-container {/* jupyter's `normalize.less` sets `[hidden] { display: none; }` but bootstrap.min.css set `[hidden] { display: none !important; }` so we also need the `!important` here to be able to override the default hidden behavior on the sphinx rendered scikit-learn.org. See: https://github.com/scikit-learn/scikit-learn/issues/21755 */display: inline-block !important;position: relative;}#sk-container-id-2 div.sk-text-repr-fallback {display: none;}</style><div id=\"sk-container-id-2\" class=\"sk-top-container\"><div class=\"sk-text-repr-fallback\"><pre>KNeighborsClassifier()</pre><b>In a Jupyter environment, please rerun this cell to show the HTML representation or trust the notebook. <br />On GitHub, the HTML representation is unable to render, please try loading this page with nbviewer.org.</b></div><div class=\"sk-container\" hidden><div class=\"sk-item\"><div class=\"sk-estimator sk-toggleable\"><input class=\"sk-toggleable__control sk-hidden--visually\" id=\"sk-estimator-id-2\" type=\"checkbox\" checked><label for=\"sk-estimator-id-2\" class=\"sk-toggleable__label sk-toggleable__label-arrow\">KNeighborsClassifier</label><div class=\"sk-toggleable__content\"><pre>KNeighborsClassifier()</pre></div></div></div></div></div>"
      ],
      "text/plain": [
       "KNeighborsClassifier()"
      ]
     },
     "execution_count": 27,
     "metadata": {},
     "output_type": "execute_result"
    }
   ],
   "source": [
    "from sklearn.neighbors import KNeighborsClassifier\n",
    "model_classifier = KNeighborsClassifier(n_neighbors = 5, metric = 'minkowski', p = 2)\n",
    "model_classifier.fit(x_train, y_train)"
   ]
  },
  {
   "cell_type": "code",
   "execution_count": 28,
   "metadata": {},
   "outputs": [],
   "source": [
    "y_pred_2 = model_classifier.predict(x_test)"
   ]
  },
  {
   "cell_type": "code",
   "execution_count": 29,
   "metadata": {},
   "outputs": [
    {
     "data": {
      "text/plain": [
       "0.7994143484626647"
      ]
     },
     "execution_count": 29,
     "metadata": {},
     "output_type": "execute_result"
    }
   ],
   "source": [
    "from sklearn.metrics import confusion_matrix, accuracy_score\n",
    "accuracy_score(y_test, y_pred_2)  "
   ]
  },
  {
   "cell_type": "code",
   "execution_count": 30,
   "metadata": {},
   "outputs": [
    {
     "name": "stderr",
     "output_type": "stream",
     "text": [
      "c:\\ProgramData\\anaconda3\\Lib\\site-packages\\sklearn\\base.py:1151: DataConversionWarning: A column-vector y was passed when a 1d array was expected. Please change the shape of y to (n_samples,), for example using ravel().\n",
      "  return fit_method(estimator, *args, **kwargs)\n"
     ]
    },
    {
     "data": {
      "text/html": [
       "<style>#sk-container-id-3 {color: black;}#sk-container-id-3 pre{padding: 0;}#sk-container-id-3 div.sk-toggleable {background-color: white;}#sk-container-id-3 label.sk-toggleable__label {cursor: pointer;display: block;width: 100%;margin-bottom: 0;padding: 0.3em;box-sizing: border-box;text-align: center;}#sk-container-id-3 label.sk-toggleable__label-arrow:before {content: \"▸\";float: left;margin-right: 0.25em;color: #696969;}#sk-container-id-3 label.sk-toggleable__label-arrow:hover:before {color: black;}#sk-container-id-3 div.sk-estimator:hover label.sk-toggleable__label-arrow:before {color: black;}#sk-container-id-3 div.sk-toggleable__content {max-height: 0;max-width: 0;overflow: hidden;text-align: left;background-color: #f0f8ff;}#sk-container-id-3 div.sk-toggleable__content pre {margin: 0.2em;color: black;border-radius: 0.25em;background-color: #f0f8ff;}#sk-container-id-3 input.sk-toggleable__control:checked~div.sk-toggleable__content {max-height: 200px;max-width: 100%;overflow: auto;}#sk-container-id-3 input.sk-toggleable__control:checked~label.sk-toggleable__label-arrow:before {content: \"▾\";}#sk-container-id-3 div.sk-estimator input.sk-toggleable__control:checked~label.sk-toggleable__label {background-color: #d4ebff;}#sk-container-id-3 div.sk-label input.sk-toggleable__control:checked~label.sk-toggleable__label {background-color: #d4ebff;}#sk-container-id-3 input.sk-hidden--visually {border: 0;clip: rect(1px 1px 1px 1px);clip: rect(1px, 1px, 1px, 1px);height: 1px;margin: -1px;overflow: hidden;padding: 0;position: absolute;width: 1px;}#sk-container-id-3 div.sk-estimator {font-family: monospace;background-color: #f0f8ff;border: 1px dotted black;border-radius: 0.25em;box-sizing: border-box;margin-bottom: 0.5em;}#sk-container-id-3 div.sk-estimator:hover {background-color: #d4ebff;}#sk-container-id-3 div.sk-parallel-item::after {content: \"\";width: 100%;border-bottom: 1px solid gray;flex-grow: 1;}#sk-container-id-3 div.sk-label:hover label.sk-toggleable__label {background-color: #d4ebff;}#sk-container-id-3 div.sk-serial::before {content: \"\";position: absolute;border-left: 1px solid gray;box-sizing: border-box;top: 0;bottom: 0;left: 50%;z-index: 0;}#sk-container-id-3 div.sk-serial {display: flex;flex-direction: column;align-items: center;background-color: white;padding-right: 0.2em;padding-left: 0.2em;position: relative;}#sk-container-id-3 div.sk-item {position: relative;z-index: 1;}#sk-container-id-3 div.sk-parallel {display: flex;align-items: stretch;justify-content: center;background-color: white;position: relative;}#sk-container-id-3 div.sk-item::before, #sk-container-id-3 div.sk-parallel-item::before {content: \"\";position: absolute;border-left: 1px solid gray;box-sizing: border-box;top: 0;bottom: 0;left: 50%;z-index: -1;}#sk-container-id-3 div.sk-parallel-item {display: flex;flex-direction: column;z-index: 1;position: relative;background-color: white;}#sk-container-id-3 div.sk-parallel-item:first-child::after {align-self: flex-end;width: 50%;}#sk-container-id-3 div.sk-parallel-item:last-child::after {align-self: flex-start;width: 50%;}#sk-container-id-3 div.sk-parallel-item:only-child::after {width: 0;}#sk-container-id-3 div.sk-dashed-wrapped {border: 1px dashed gray;margin: 0 0.4em 0.5em 0.4em;box-sizing: border-box;padding-bottom: 0.4em;background-color: white;}#sk-container-id-3 div.sk-label label {font-family: monospace;font-weight: bold;display: inline-block;line-height: 1.2em;}#sk-container-id-3 div.sk-label-container {text-align: center;}#sk-container-id-3 div.sk-container {/* jupyter's `normalize.less` sets `[hidden] { display: none; }` but bootstrap.min.css set `[hidden] { display: none !important; }` so we also need the `!important` here to be able to override the default hidden behavior on the sphinx rendered scikit-learn.org. See: https://github.com/scikit-learn/scikit-learn/issues/21755 */display: inline-block !important;position: relative;}#sk-container-id-3 div.sk-text-repr-fallback {display: none;}</style><div id=\"sk-container-id-3\" class=\"sk-top-container\"><div class=\"sk-text-repr-fallback\"><pre>RandomForestClassifier(criterion=&#x27;entropy&#x27;, n_estimators=10, random_state=0)</pre><b>In a Jupyter environment, please rerun this cell to show the HTML representation or trust the notebook. <br />On GitHub, the HTML representation is unable to render, please try loading this page with nbviewer.org.</b></div><div class=\"sk-container\" hidden><div class=\"sk-item\"><div class=\"sk-estimator sk-toggleable\"><input class=\"sk-toggleable__control sk-hidden--visually\" id=\"sk-estimator-id-3\" type=\"checkbox\" checked><label for=\"sk-estimator-id-3\" class=\"sk-toggleable__label sk-toggleable__label-arrow\">RandomForestClassifier</label><div class=\"sk-toggleable__content\"><pre>RandomForestClassifier(criterion=&#x27;entropy&#x27;, n_estimators=10, random_state=0)</pre></div></div></div></div></div>"
      ],
      "text/plain": [
       "RandomForestClassifier(criterion='entropy', n_estimators=10, random_state=0)"
      ]
     },
     "execution_count": 30,
     "metadata": {},
     "output_type": "execute_result"
    }
   ],
   "source": [
    "from sklearn.ensemble import RandomForestClassifier\n",
    "classifier_forest = RandomForestClassifier(n_estimators = 10, criterion = 'entropy', random_state = 0)\n",
    "classifier_forest.fit(x_train, y_train)"
   ]
  },
  {
   "cell_type": "code",
   "execution_count": 31,
   "metadata": {},
   "outputs": [],
   "source": [
    "y_predict_3= classifier_forest.predict(x_test)"
   ]
  },
  {
   "cell_type": "code",
   "execution_count": 32,
   "metadata": {},
   "outputs": [
    {
     "data": {
      "text/plain": [
       "0.8150317227916056"
      ]
     },
     "execution_count": 32,
     "metadata": {},
     "output_type": "execute_result"
    }
   ],
   "source": [
    "accuracy_score(y_test, y_predict_3)"
   ]
  },
  {
   "cell_type": "code",
   "execution_count": 33,
   "metadata": {},
   "outputs": [
    {
     "name": "stderr",
     "output_type": "stream",
     "text": [
      "c:\\ProgramData\\anaconda3\\Lib\\site-packages\\sklearn\\utils\\validation.py:1184: DataConversionWarning: A column-vector y was passed when a 1d array was expected. Please change the shape of y to (n_samples, ), for example using ravel().\n",
      "  y = column_or_1d(y, warn=True)\n"
     ]
    },
    {
     "data": {
      "text/html": [
       "<style>#sk-container-id-4 {color: black;}#sk-container-id-4 pre{padding: 0;}#sk-container-id-4 div.sk-toggleable {background-color: white;}#sk-container-id-4 label.sk-toggleable__label {cursor: pointer;display: block;width: 100%;margin-bottom: 0;padding: 0.3em;box-sizing: border-box;text-align: center;}#sk-container-id-4 label.sk-toggleable__label-arrow:before {content: \"▸\";float: left;margin-right: 0.25em;color: #696969;}#sk-container-id-4 label.sk-toggleable__label-arrow:hover:before {color: black;}#sk-container-id-4 div.sk-estimator:hover label.sk-toggleable__label-arrow:before {color: black;}#sk-container-id-4 div.sk-toggleable__content {max-height: 0;max-width: 0;overflow: hidden;text-align: left;background-color: #f0f8ff;}#sk-container-id-4 div.sk-toggleable__content pre {margin: 0.2em;color: black;border-radius: 0.25em;background-color: #f0f8ff;}#sk-container-id-4 input.sk-toggleable__control:checked~div.sk-toggleable__content {max-height: 200px;max-width: 100%;overflow: auto;}#sk-container-id-4 input.sk-toggleable__control:checked~label.sk-toggleable__label-arrow:before {content: \"▾\";}#sk-container-id-4 div.sk-estimator input.sk-toggleable__control:checked~label.sk-toggleable__label {background-color: #d4ebff;}#sk-container-id-4 div.sk-label input.sk-toggleable__control:checked~label.sk-toggleable__label {background-color: #d4ebff;}#sk-container-id-4 input.sk-hidden--visually {border: 0;clip: rect(1px 1px 1px 1px);clip: rect(1px, 1px, 1px, 1px);height: 1px;margin: -1px;overflow: hidden;padding: 0;position: absolute;width: 1px;}#sk-container-id-4 div.sk-estimator {font-family: monospace;background-color: #f0f8ff;border: 1px dotted black;border-radius: 0.25em;box-sizing: border-box;margin-bottom: 0.5em;}#sk-container-id-4 div.sk-estimator:hover {background-color: #d4ebff;}#sk-container-id-4 div.sk-parallel-item::after {content: \"\";width: 100%;border-bottom: 1px solid gray;flex-grow: 1;}#sk-container-id-4 div.sk-label:hover label.sk-toggleable__label {background-color: #d4ebff;}#sk-container-id-4 div.sk-serial::before {content: \"\";position: absolute;border-left: 1px solid gray;box-sizing: border-box;top: 0;bottom: 0;left: 50%;z-index: 0;}#sk-container-id-4 div.sk-serial {display: flex;flex-direction: column;align-items: center;background-color: white;padding-right: 0.2em;padding-left: 0.2em;position: relative;}#sk-container-id-4 div.sk-item {position: relative;z-index: 1;}#sk-container-id-4 div.sk-parallel {display: flex;align-items: stretch;justify-content: center;background-color: white;position: relative;}#sk-container-id-4 div.sk-item::before, #sk-container-id-4 div.sk-parallel-item::before {content: \"\";position: absolute;border-left: 1px solid gray;box-sizing: border-box;top: 0;bottom: 0;left: 50%;z-index: -1;}#sk-container-id-4 div.sk-parallel-item {display: flex;flex-direction: column;z-index: 1;position: relative;background-color: white;}#sk-container-id-4 div.sk-parallel-item:first-child::after {align-self: flex-end;width: 50%;}#sk-container-id-4 div.sk-parallel-item:last-child::after {align-self: flex-start;width: 50%;}#sk-container-id-4 div.sk-parallel-item:only-child::after {width: 0;}#sk-container-id-4 div.sk-dashed-wrapped {border: 1px dashed gray;margin: 0 0.4em 0.5em 0.4em;box-sizing: border-box;padding-bottom: 0.4em;background-color: white;}#sk-container-id-4 div.sk-label label {font-family: monospace;font-weight: bold;display: inline-block;line-height: 1.2em;}#sk-container-id-4 div.sk-label-container {text-align: center;}#sk-container-id-4 div.sk-container {/* jupyter's `normalize.less` sets `[hidden] { display: none; }` but bootstrap.min.css set `[hidden] { display: none !important; }` so we also need the `!important` here to be able to override the default hidden behavior on the sphinx rendered scikit-learn.org. See: https://github.com/scikit-learn/scikit-learn/issues/21755 */display: inline-block !important;position: relative;}#sk-container-id-4 div.sk-text-repr-fallback {display: none;}</style><div id=\"sk-container-id-4\" class=\"sk-top-container\"><div class=\"sk-text-repr-fallback\"><pre>SVC(kernel=&#x27;linear&#x27;, random_state=0)</pre><b>In a Jupyter environment, please rerun this cell to show the HTML representation or trust the notebook. <br />On GitHub, the HTML representation is unable to render, please try loading this page with nbviewer.org.</b></div><div class=\"sk-container\" hidden><div class=\"sk-item\"><div class=\"sk-estimator sk-toggleable\"><input class=\"sk-toggleable__control sk-hidden--visually\" id=\"sk-estimator-id-4\" type=\"checkbox\" checked><label for=\"sk-estimator-id-4\" class=\"sk-toggleable__label sk-toggleable__label-arrow\">SVC</label><div class=\"sk-toggleable__content\"><pre>SVC(kernel=&#x27;linear&#x27;, random_state=0)</pre></div></div></div></div></div>"
      ],
      "text/plain": [
       "SVC(kernel='linear', random_state=0)"
      ]
     },
     "execution_count": 33,
     "metadata": {},
     "output_type": "execute_result"
    }
   ],
   "source": [
    "from sklearn.svm import SVC\n",
    "classifier_svc = SVC(kernel = 'linear', random_state = 0)\n",
    "classifier_svc.fit(x_train, y_train)"
   ]
  },
  {
   "cell_type": "code",
   "execution_count": 34,
   "metadata": {},
   "outputs": [],
   "source": [
    "y_pred_4 = classifier_svc.predict(x_test)"
   ]
  },
  {
   "cell_type": "code",
   "execution_count": null,
   "metadata": {},
   "outputs": [],
   "source": [
    "accuracy_score(y_test, y_pred_4)"
   ]
  }
 ],
 "metadata": {
  "kernelspec": {
   "display_name": "base",
   "language": "python",
   "name": "python3"
  },
  "language_info": {
   "codemirror_mode": {
    "name": "ipython",
    "version": 3
   },
   "file_extension": ".py",
   "mimetype": "text/x-python",
   "name": "python",
   "nbconvert_exporter": "python",
   "pygments_lexer": "ipython3",
   "version": "3.11.4"
  }
 },
 "nbformat": 4,
 "nbformat_minor": 2
}
